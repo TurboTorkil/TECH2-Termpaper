{
 "cells": [
  {
   "cell_type": "markdown",
   "metadata": {},
   "source": [
    "Task 6: \n",
    "In completing this assignment, our group has used several online sources to enhance our efficiency and understanding of the different tasks we were to complete. This include sources like previous notes from lectures and workshops, pandas.pydata.org, generative AI and Stack Overflow. \n",
    "\n",
    "Official function documentation:\n",
    "The use of official function documentation (for functions in Pandas and matplotlib) helped us understand certain functions and how to utilize them correctly, E.G. 'Groupby()', 'resample()' and for plotting functions. The documentation provided guidance on function parameters and examples of usage, helping us apply them correctly in the code. \n",
    "\n",
    "Stack Overflow: \n",
    "We used Stack Overflow in the way of looking up different errors in our initialized code, increasing our understanding of what possibly went wrong where, and how we from there on could improve our code, E.G. ValueErrors.\n",
    "\n",
    "Notes from Lectures:\n",
    "By constantly reading through previous lecture and workshop notes, we refreshed our memory in the usage of different functions. Especially when working on the task inclluding a scatter plot, we looked back on previous workshop tasks, and were able to more easily solve this very task. \n",
    "\n",
    "Generative AI:\n",
    "Our group used ChatGPT in clarifying concepts, understand possible coding errors, and seek for relevant guidance on how to approach the tasks. ChatGPT helped us understand how to write different lines of code correctly and more efficiently. However, every time we used ChatGPT, we made sure to understand everything it said, and test it to consider whether it gave us the result we wanted. Overall making sure that we did not use ChatGPT in a way that we did not understand. ChatGPT helped us re-structure our code, for instance in how to calculate weekly sums and calculate correlation and refine the code to make it more readable \n",
    "\n",
    "\n",
    "We utilized several sources in our approach of solving this assignment. By reading through previous notes, official documentation and Stack Overflow, we were able to understand how to code in the correct way. Our usage of AI has definitely helped us make our code more readable, efficient and helped us out with problems. Importantly, we thoroughly reviewed and tested all AI-generated suggetions we got, to ensure that we fully understood each solution (line of code) and that the final result from this line align with our expectations. "
   ]
  }
 ],
 "metadata": {
  "language_info": {
   "name": "python"
  }
 },
 "nbformat": 4,
 "nbformat_minor": 2
}
