{
 "cells": [
  {
   "cell_type": "code",
   "execution_count": 9,
   "metadata": {},
   "outputs": [
    {
     "data": {
      "text/html": [
       "<div>\n",
       "<style scoped>\n",
       "    .dataframe tbody tr th:only-of-type {\n",
       "        vertical-align: middle;\n",
       "    }\n",
       "\n",
       "    .dataframe tbody tr th {\n",
       "        vertical-align: top;\n",
       "    }\n",
       "\n",
       "    .dataframe thead th {\n",
       "        text-align: right;\n",
       "    }\n",
       "</style>\n",
       "<table border=\"1\" class=\"dataframe\">\n",
       "  <thead>\n",
       "    <tr style=\"text-align: right;\">\n",
       "      <th></th>\n",
       "      <th>DateTime</th>\n",
       "      <th>InMapCode</th>\n",
       "      <th>OutMapCode</th>\n",
       "      <th>FlowValue</th>\n",
       "    </tr>\n",
       "  </thead>\n",
       "  <tbody>\n",
       "    <tr>\n",
       "      <th>0</th>\n",
       "      <td>2019-01-01 00:00:00</td>\n",
       "      <td>AL</td>\n",
       "      <td>GR</td>\n",
       "      <td>173.00</td>\n",
       "    </tr>\n",
       "    <tr>\n",
       "      <th>1</th>\n",
       "      <td>2019-01-01 01:00:00</td>\n",
       "      <td>AL</td>\n",
       "      <td>GR</td>\n",
       "      <td>145.00</td>\n",
       "    </tr>\n",
       "    <tr>\n",
       "      <th>2</th>\n",
       "      <td>2019-01-01 02:00:00</td>\n",
       "      <td>AL</td>\n",
       "      <td>GR</td>\n",
       "      <td>145.00</td>\n",
       "    </tr>\n",
       "    <tr>\n",
       "      <th>3</th>\n",
       "      <td>2019-01-01 03:00:00</td>\n",
       "      <td>AL</td>\n",
       "      <td>GR</td>\n",
       "      <td>133.00</td>\n",
       "    </tr>\n",
       "    <tr>\n",
       "      <th>4</th>\n",
       "      <td>2019-01-01 04:00:00</td>\n",
       "      <td>AL</td>\n",
       "      <td>GR</td>\n",
       "      <td>130.00</td>\n",
       "    </tr>\n",
       "    <tr>\n",
       "      <th>...</th>\n",
       "      <td>...</td>\n",
       "      <td>...</td>\n",
       "      <td>...</td>\n",
       "      <td>...</td>\n",
       "    </tr>\n",
       "    <tr>\n",
       "      <th>14402341</th>\n",
       "      <td>2023-12-31 19:00:00</td>\n",
       "      <td>XK</td>\n",
       "      <td>RS</td>\n",
       "      <td>418.85</td>\n",
       "    </tr>\n",
       "    <tr>\n",
       "      <th>14402342</th>\n",
       "      <td>2023-12-31 20:00:00</td>\n",
       "      <td>XK</td>\n",
       "      <td>RS</td>\n",
       "      <td>411.11</td>\n",
       "    </tr>\n",
       "    <tr>\n",
       "      <th>14402343</th>\n",
       "      <td>2023-12-31 21:00:00</td>\n",
       "      <td>XK</td>\n",
       "      <td>RS</td>\n",
       "      <td>485.37</td>\n",
       "    </tr>\n",
       "    <tr>\n",
       "      <th>14402344</th>\n",
       "      <td>2023-12-31 22:00:00</td>\n",
       "      <td>XK</td>\n",
       "      <td>RS</td>\n",
       "      <td>469.40</td>\n",
       "    </tr>\n",
       "    <tr>\n",
       "      <th>14402345</th>\n",
       "      <td>2023-12-31 23:00:00</td>\n",
       "      <td>XK</td>\n",
       "      <td>RS</td>\n",
       "      <td>402.18</td>\n",
       "    </tr>\n",
       "  </tbody>\n",
       "</table>\n",
       "<p>14402346 rows × 4 columns</p>\n",
       "</div>"
      ],
      "text/plain": [
       "                     DateTime InMapCode OutMapCode  FlowValue\n",
       "0         2019-01-01 00:00:00        AL         GR     173.00\n",
       "1         2019-01-01 01:00:00        AL         GR     145.00\n",
       "2         2019-01-01 02:00:00        AL         GR     145.00\n",
       "3         2019-01-01 03:00:00        AL         GR     133.00\n",
       "4         2019-01-01 04:00:00        AL         GR     130.00\n",
       "...                       ...       ...        ...        ...\n",
       "14402341  2023-12-31 19:00:00        XK         RS     418.85\n",
       "14402342  2023-12-31 20:00:00        XK         RS     411.11\n",
       "14402343  2023-12-31 21:00:00        XK         RS     485.37\n",
       "14402344  2023-12-31 22:00:00        XK         RS     469.40\n",
       "14402345  2023-12-31 23:00:00        XK         RS     402.18\n",
       "\n",
       "[14402346 rows x 4 columns]"
      ]
     },
     "execution_count": 9,
     "metadata": {},
     "output_type": "execute_result"
    }
   ],
   "source": [
    "#Import relevant libraries\n",
    "import pandas as pd\n",
    "import matplotlib.pyplot as plt\n",
    "import glob\n",
    "#Creating data path for the relevant data\n",
    "DATA_PATH = '../data/PhysicalFlows_12.1.G/*.csv' \n",
    "files = glob.glob(DATA_PATH)\n",
    "#Initializing empty list to store all files\n",
    "dataframes = []\n",
    "for f in files:\n",
    "    csv = pd.read_csv(f, delimiter = '\\t')\n",
    "    dataframes.append(csv)\n",
    "#Concatenating all files into one dataframe\n",
    "flowdata = pd.concat(dataframes, ignore_index = True)\n",
    "flowdata\n"
   ]
  },
  {
   "cell_type": "code",
   "execution_count": 11,
   "metadata": {},
   "outputs": [],
   "source": [
    "# Convert datetime to datetime, Extract the year, enabling us to work with the annual sums later\n",
    "flowdata['DateTime'] = pd.to_datetime(flowdata['DateTime'])\n",
    "flowdata['Year'] = flowdata['DateTime'].dt.year\n",
    "#Filter relevant rows, in this case only when NO2 and Germany are InMap or OutMap\n",
    "#Separate data for imports and exports for NO2 to/from Germany\n",
    "imports = flowdata[(flowdata['InMapCode'] == 'NO2') & (flowdata['OutMapCode'] == 'DE_LU')]\n",
    "exports = flowdata[(flowdata['OutMapCode'] == 'NO2') & (flowdata['InMapCode'] == 'DE_LU')]\n",
    "\n",
    "#Calculating annual sums of imports and exports\n",
    "annual_imports = imports.groupby('Year')['FlowValue'].sum()\n",
    "annual_exports = exports.groupby('Year')['FlowValue'].sum()\n"
   ]
  },
  {
   "cell_type": "code",
   "execution_count": 12,
   "metadata": {},
   "outputs": [
    {
     "data": {
      "text/html": [
       "<div>\n",
       "<style scoped>\n",
       "    .dataframe tbody tr th:only-of-type {\n",
       "        vertical-align: middle;\n",
       "    }\n",
       "\n",
       "    .dataframe tbody tr th {\n",
       "        vertical-align: top;\n",
       "    }\n",
       "\n",
       "    .dataframe thead th {\n",
       "        text-align: right;\n",
       "    }\n",
       "</style>\n",
       "<table border=\"1\" class=\"dataframe\">\n",
       "  <thead>\n",
       "    <tr style=\"text-align: right;\">\n",
       "      <th></th>\n",
       "      <th>Imports</th>\n",
       "      <th>Exports</th>\n",
       "    </tr>\n",
       "    <tr>\n",
       "      <th>Year</th>\n",
       "      <th></th>\n",
       "      <th></th>\n",
       "    </tr>\n",
       "  </thead>\n",
       "  <tbody>\n",
       "    <tr>\n",
       "      <th>2020</th>\n",
       "      <td>5.034026e+04</td>\n",
       "      <td>1.942403e+05</td>\n",
       "    </tr>\n",
       "    <tr>\n",
       "      <th>2021</th>\n",
       "      <td>1.117788e+06</td>\n",
       "      <td>4.287291e+06</td>\n",
       "    </tr>\n",
       "    <tr>\n",
       "      <th>2022</th>\n",
       "      <td>1.643756e+06</td>\n",
       "      <td>5.423627e+06</td>\n",
       "    </tr>\n",
       "    <tr>\n",
       "      <th>2023</th>\n",
       "      <td>1.637431e+06</td>\n",
       "      <td>6.169167e+06</td>\n",
       "    </tr>\n",
       "  </tbody>\n",
       "</table>\n",
       "</div>"
      ],
      "text/plain": [
       "           Imports       Exports\n",
       "Year                            \n",
       "2020  5.034026e+04  1.942403e+05\n",
       "2021  1.117788e+06  4.287291e+06\n",
       "2022  1.643756e+06  5.423627e+06\n",
       "2023  1.637431e+06  6.169167e+06"
      ]
     },
     "execution_count": 12,
     "metadata": {},
     "output_type": "execute_result"
    }
   ],
   "source": [
    "# Step 4: Combine imports and exports into a DataFrame for plotting\n",
    "annual_data = pd.DataFrame({\n",
    "    'Imports': annual_imports,\n",
    "    'Exports': annual_exports\n",
    "}).fillna(0)  # Fill NaNs with 0 in case any years have no data\n",
    "annual_data\n",
    "#Important to keep in mind imports and exports started in 2020 with NordLink, therefore no import/export in 2019"
   ]
  },
  {
   "cell_type": "code",
   "execution_count": 18,
   "metadata": {},
   "outputs": [
    {
     "data": {
      "text/plain": [
       "<Figure size 1000x600 with 0 Axes>"
      ]
     },
     "metadata": {},
     "output_type": "display_data"
    },
    {
     "data": {
      "image/png": "[encoded data removed]",
      "text/plain": [
       "<Figure size 640x480 with 1 Axes>"
      ]
     },
     "metadata": {},
     "output_type": "display_data"
    }
   ],
   "source": [
    "#Creating terms for figure\n",
    "plt.figure(figsize=(10, 6))\n",
    "#No need to write the x axis, as the index from dataframe will be used here by default\n",
    "annual_data.plot.bar(y=['Imports', 'Exports'], stacked=False, width=0.8, rot = 45, color=['blue', 'orange'])\n",
    "\n",
    "#Customizing our bar plot\n",
    "plt.title('Annual Electricity Imports and Exports in NO2 (via Nordlink)')\n",
    "plt.xlabel('Year')\n",
    "plt.ylabel('Electricity Flow (MWh)')\n",
    "plt.legend(title=\"Flow Type\")\n",
    "plt.tight_layout()\n",
    "\n",
    "#Save the figure as a png file and show figure\n",
    "plt.savefig('figure_task3.png')\n",
    "plt.show()\n"
   ]
  },
  {
   "cell_type": "markdown",
   "metadata": {},
   "source": [
    "Conclusion: \n",
    "As the bar chart shows, NO2 exports considerably more electricity to Germany than they import. Note that the amount of exports/imports in 2020 is reasonably low, due to the fact that NordLink opened on december 9, 2020. From there, the amount of import/export increases rapidly over the years. "
   ]
  }
 ],
 "metadata": {
  "kernelspec": {
   "display_name": "base",
   "language": "python",
   "name": "python3"
  },
  "language_info": {
   "codemirror_mode": {
    "name": "ipython",
    "version": 3
   },
   "file_extension": ".py",
   "mimetype": "text/x-python",
   "name": "python",
   "nbconvert_exporter": "python",
   "pygments_lexer": "ipython3",
   "version": "3.12.4"
  }
 },
 "nbformat": 4,
 "nbformat_minor": 2
}
