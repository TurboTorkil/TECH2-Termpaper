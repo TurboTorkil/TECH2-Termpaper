{
 "cells": [
  {
   "cell_type": "code",
   "execution_count": 1,
   "metadata": {},
   "outputs": [],
   "source": [
    "# Import all relevant libraries for the task in the assignment\n",
    "import pandas as pd\n",
    "import matplotlib.pyplot as plt\n",
    "import glob"
   ]
  },
  {
   "cell_type": "code",
   "execution_count": 2,
   "metadata": {},
   "outputs": [],
   "source": [
    "# Initializing the Data Paths relevant\n",
    "DATA_PATH = '../data/DayAheadPrices_12.1.D/*.csv'\n",
    "DATA_PATH1 = '../data/PhysicalFlows_12.1.G/*.csv' "
   ]
  },
  {
   "cell_type": "code",
   "execution_count": 3,
   "metadata": {},
   "outputs": [],
   "source": [
    "# Use glob to get all files from the data paths\n",
    "price_files = glob.glob(DATA_PATH)\n",
    "flow_files = glob.glob(DATA_PATH1)"
   ]
  },
  {
   "cell_type": "markdown",
   "metadata": {},
   "source": [
    "TASK 1:"
   ]
  },
  {
   "cell_type": "code",
   "execution_count": null,
   "metadata": {},
   "outputs": [],
   "source": [
    "#Initializze list to store all relevant data\n",
    "no2_dataframes = []\n",
    "for f in price_files:\n",
    "    #Read each CSV file with the correct Delimiter, in this case tab\n",
    "    csv = pd.read_csv(f, delimiter = '\\t') \n",
    "    #Filter the rows where the mapcode is NO2 (Our relevant norwegian price zone)\n",
    "    csv = csv[csv['MapCode'] == 'NO2']\n",
    "    #Select only relevant columns\n",
    "    csv = csv[['DateTime', 'Price']]\n",
    "    csv.rename(columns = {'DateTime' : 'Date', 'Price' : 'Price'}, inplace = True)\n",
    "    #Append this to the list of dataframes\n",
    "    no2_dataframes.append(csv)\n",
    "\n",
    "#Concatenate all NO2 data into a single dataframe\n",
    "no2_data = pd.concat(no2_dataframes, ignore_index = True)\n",
    "#Making sure the date column is in the right date format\n",
    "no2_data['Date'] = pd.to_datetime(no2_data['Date'])\n",
    "#To check that the output is right, compare result from tail to actual csv files\n",
    "no2_data.tail()"
   ]
  },
  {
   "cell_type": "code",
   "execution_count": null,
   "metadata": {},
   "outputs": [],
   "source": [
    "#Doing the same procedure for collecting relevant German data\n",
    "ger_dataframes = []\n",
    "for f in price_files:\n",
    "    csv = pd.read_csv(f, delimiter = '\\t') \n",
    "    csv = csv[csv['MapCode'] == 'DE_LU']\n",
    "    csv = csv[['DateTime', 'Price']]\n",
    "    csv.rename(columns = {'DateTime' : 'Date', 'Price' : 'Price'}, inplace = True)\n",
    "    \n",
    "    ger_dataframes.append(csv)\n",
    "\n",
    "\n",
    "ger_data = pd.concat(ger_dataframes, ignore_index = True)\n",
    "ger_data['Date'] = pd.to_datetime(ger_data['Date'])\n",
    "\n",
    "ger_data.tail()"
   ]
  },
  {
   "cell_type": "code",
   "execution_count": null,
   "metadata": {},
   "outputs": [],
   "source": [
    "#Merge data on Date to ensure alignment (optional if already aligned)\n",
    "#merged_data = pd.merge(no2_data, ger_data, on='Date', suffixes=('_NO2', '_DE_LU'))\n",
    "\n",
    "# Plotting\n",
    "plt.figure(figsize=(14, 10))\n",
    "\n",
    "# NO2 Price subplot\n",
    "plt.subplot(2, 1, 1)\n",
    "# Making date as the x axis and price as the y axis, as well as coloring and labelling\n",
    "plt.plot(no2_data['Date'], no2_data['Price'], color='blue', label='NO2 Price')\n",
    "# Creating the line for when Nordlink was opened.\n",
    "plt.axvline(pd.Timestamp('2020-12-09'), color='red', linestyle='--', label='Nordlink Opening')\n",
    "#Creating titles and labels for the axis'\n",
    "plt.title('Hourly Electricity Price in NO2')\n",
    "plt.xlabel('Date')\n",
    "plt.ylabel('Price (EUR/MWh)')\n",
    "plt.legend()\n",
    "\n",
    "#Germany price subplot, doing same procedure as above\n",
    "plt.subplot(2, 1, 2)\n",
    "plt.plot(ger_data['Date'], ger_data['Price'], color='green', label='Germany Price')\n",
    "plt.axvline(pd.Timestamp('2020-12-09'), color='red', linestyle='--', label='Nordlink Opening')\n",
    "plt.title('Hourly Electricity Price in Germany (DE_LU)')\n",
    "plt.xlabel('Date')\n",
    "plt.ylabel('Price (EUR/MWh)')\n",
    "plt.legend()\n",
    "\n",
    "#Making the graphs more easy to read and removes overlap\n",
    "plt.tight_layout()\n",
    "plt.savefig('figure_task1.png')\n",
    "plt.show()\n",
    "\n"
   ]
  },
  {
   "cell_type": "markdown",
   "metadata": {},
   "source": [
    "Conclusion: \n",
    "\n",
    "After analyzing electricity prices in NO2 and Germany, we observe overall increased price alignment following the opening of Nordlink, December 9, 2020, which is a result of improved cross-border balancing of energy. Electricity prices varied independently prior to Nordlink, however, these prices seem more synchronized after the opening, meaning that this cable has facilitated for more supply and demand adjustments. Despite all of this, as the subplots show, both countries are experiencing price spikes, which is highly likely due to the recent European energy crisis. The countries experienced most variation in the same timeframe, which also underscores the fact that prices became increasinly similar after Nordlink's deployment. \n",
    "The prices in NO2 have increased after the opening of Nordlink, and we can see a stable (or even slightly decrease) electricity price in Germany. This may be a result of greater exposure to European prices for Norway (E.G. fuel prices), while Germany has benefited from a stabilizing effect that has helped them contain their prices. \n",
    "\n",
    "Negative electricity prices can occur when a country has an oversupply of electricity during periods with low demand. This situation is often made worse by subsidies or rules that encourage renewable energy producers to keep generating power even when demand is low, since stopping and restarting production can be costly and inefficient. "
   ]
  },
  {
   "cell_type": "markdown",
   "metadata": {},
   "source": [
    "TASK 2:"
   ]
  },
  {
   "cell_type": "code",
   "execution_count": 7,
   "metadata": {},
   "outputs": [],
   "source": [
    "no2_dataframes = []\n",
    "for f in price_files:\n",
    "    csv = pd.read_csv(f, delimiter = '\\t') \n",
    "    csv = csv[csv['MapCode'] == 'NO2']\n",
    "    csv = csv[['DateTime', 'Price']]\n",
    "    csv.rename(columns = {'DateTime' : 'Date', 'Price' : 'Price'}, inplace = True)\n",
    "    no2_dataframes.append(csv)\n",
    "\n",
    "no2_data = pd.concat(no2_dataframes, ignore_index = True)\n",
    "no2_data['Date'] = pd.to_datetime(no2_data['Date'])"
   ]
  },
  {
   "cell_type": "code",
   "execution_count": 8,
   "metadata": {},
   "outputs": [],
   "source": [
    "#Doing the same procedure as above for collecting relevant German data\n",
    "ger_dataframes = []\n",
    "for f in price_files:\n",
    "    csv = pd.read_csv(f, delimiter = '\\t') \n",
    "    csv = csv[csv['MapCode'] == 'DE_LU']\n",
    "    csv = csv[['DateTime', 'Price']]\n",
    "    csv.rename(columns = {'DateTime' : 'Date', 'Price' : 'Price'}, inplace = True)\n",
    "    \n",
    "    ger_dataframes.append(csv)\n",
    "\n",
    "\n",
    "ger_data = pd.concat(ger_dataframes, ignore_index = True)\n",
    "ger_data['Date'] = pd.to_datetime(ger_data['Date'])"
   ]
  },
  {
   "cell_type": "code",
   "execution_count": 9,
   "metadata": {},
   "outputs": [],
   "source": [
    "# Extract year from DateTime in both created dataframes and add it as a new column\n",
    "no2_data['Year'] = no2_data['Date'].dt.year\n",
    "ger_data['Year'] = ger_data['Date'].dt.year"
   ]
  },
  {
   "cell_type": "code",
   "execution_count": null,
   "metadata": {},
   "outputs": [],
   "source": [
    "#Initialize an empty list to store our results, enabling us to create a new dataframe later...\n",
    "\n",
    "results = []\n",
    "# NB! Keeping all calculations and code inside the for loop to get stats for each year\n",
    "for year in range(2019, 2024):\n",
    "    # Filter relevant data for the specific years\n",
    "    yearly_no2 = no2_data[no2_data['Year'] == year]['Price']\n",
    "    yearly_ger = ger_data[ger_data['Year'] == year]['Price']\n",
    "\n",
    "#Creating two dictionaries to store the calculated statistics for the specific years in NO2 and Germany, rounding to two decimals\n",
    "    stats_no2 = {\n",
    "        'Year' : year,\n",
    "        'Country' : 'NO2', \n",
    "        'Mean' : round(yearly_no2.mean(), 2),\n",
    "        'Median' : round(yearly_no2.median(), 2),\n",
    "        'Std Dev' : round(yearly_no2.std(), 2),\n",
    "        'Min' : round(yearly_no2.min(), 2), \n",
    "        'Max' : round(yearly_no2.max(), 2)\n",
    "}\n",
    "\n",
    "    stats_ger = {\n",
    "        'Year' : year,\n",
    "        'Country' : 'Germany', \n",
    "        'Mean' : round(yearly_ger.mean(), 2),\n",
    "        'Median' : round(yearly_ger.median(), 2),\n",
    "        'Std Dev' : round(yearly_ger.std(), 2),\n",
    "        'Min' : round(yearly_ger.min(), 2), \n",
    "        'Max' : round(yearly_ger.max(), 2)    \n",
    "    }\n",
    "\n",
    "    #Appending all results from dictionaries to the initialized list\n",
    "    results.append(stats_no2)\n",
    "    results.append(stats_ger)\n",
    "\n",
    "results"
   ]
  },
  {
   "cell_type": "code",
   "execution_count": null,
   "metadata": {},
   "outputs": [],
   "source": [
    "#Creating a dataframe for the statistics we calculated above\n",
    "stats_df = pd.DataFrame(results)\n",
    "stats_df"
   ]
  },
  {
   "cell_type": "code",
   "execution_count": 12,
   "metadata": {},
   "outputs": [],
   "source": [
    "#Export the dataframe into an excel file\n",
    "stats_df.to_excel('table_task2.xlsx')"
   ]
  },
  {
   "cell_type": "markdown",
   "metadata": {},
   "source": [
    "Conclusion: \n",
    "By looking into the columns for the years after NordLink was deployed (2021,2022), we see that the electricity prices overall has increased rapidly. The 'std dev' column and the widening of 'min' and 'max' reflects this.\n",
    "The average prices in both NO2 and Germany have generally trended upwards. For instance, the mean price for NO2 increases from 39.26 in 2019 to a peak of 211.28 in 2022, while Germany’s mean price rises from 37.67 in 2019 to 237.10 in 2022. This shows a extreme growing trend in both regions. \n",
    "\n",
    "Germany’s volatility (standard deviation) and extremes (min and max values) are slightly higher than in NO2, especially in 2022, where the maximum price reaches nearly 3000 and the minimum is a large negative value (-149.99). This might be due to Germany’s shift from more stable energy sources like oil, gas, and nuclear power to less consistent renewable sources like wind and solar."
   ]
  },
  {
   "cell_type": "markdown",
   "metadata": {},
   "source": [
    "TASK 3:"
   ]
  },
  {
   "cell_type": "code",
   "execution_count": null,
   "metadata": {},
   "outputs": [],
   "source": [
    "#Initializing empty list to store all files\n",
    "dataframes = []\n",
    "for f in flow_files:\n",
    "    csv = pd.read_csv(f, delimiter = '\\t')\n",
    "    dataframes.append(csv)\n",
    "#Concatenating all files into one dataframe\n",
    "flowdata = pd.concat(dataframes, ignore_index = True)\n",
    "flowdata"
   ]
  },
  {
   "cell_type": "code",
   "execution_count": 14,
   "metadata": {},
   "outputs": [],
   "source": [
    "# Convert datetime to datetime, Extract the year, enabling us to work with the annual sums later\n",
    "flowdata['DateTime'] = pd.to_datetime(flowdata['DateTime'])\n",
    "flowdata['Year'] = flowdata['DateTime'].dt.year\n",
    "#Filter relevant rows, in this case only when NO2 and Germany are InMap or OutMap\n",
    "#Separate data for imports and exports for NO2 to/from Germany\n",
    "imports = flowdata[(flowdata['InMapCode'] == 'NO2') & (flowdata['OutMapCode'] == 'DE_LU')]\n",
    "exports = flowdata[(flowdata['OutMapCode'] == 'NO2') & (flowdata['InMapCode'] == 'DE_LU')]\n",
    "\n",
    "#Calculating annual sums of imports and exports\n",
    "annual_imports = imports.groupby('Year')['FlowValue'].sum()\n",
    "annual_exports = exports.groupby('Year')['FlowValue'].sum()"
   ]
  },
  {
   "cell_type": "code",
   "execution_count": null,
   "metadata": {},
   "outputs": [],
   "source": [
    "# Combine imports and exports into a DataFrame for plotting\n",
    "annual_data = pd.DataFrame({\n",
    "    'Imports': annual_imports,\n",
    "    'Exports': annual_exports\n",
    "}).fillna(0)  # Fill NaNs with 0 in case any years have no data\n",
    "annual_data\n",
    "#Important to keep in mind imports and exports started in 2020 with NordLink, therefore no import/export in 2019"
   ]
  },
  {
   "cell_type": "code",
   "execution_count": null,
   "metadata": {},
   "outputs": [],
   "source": [
    "#Creating terms for figure\n",
    "plt.figure(figsize=(10, 6))\n",
    "#No need to write the x axis, as the index from dataframe will be used here by default\n",
    "annual_data.plot.bar(y=['Imports', 'Exports'], stacked=False, width=0.8, rot = 45, color=['blue', 'orange'])\n",
    "\n",
    "#Customizing our bar plot\n",
    "plt.title('Annual Electricity Imports and Exports in NO2 (via Nordlink)')\n",
    "plt.xlabel('Year')\n",
    "plt.ylabel('Electricity Flow (MWh)')\n",
    "plt.legend(title=\"Flow Type\")\n",
    "plt.tight_layout()\n",
    "\n",
    "#Save the figure as a png file and show figure\n",
    "plt.savefig('figure_task3.png')\n",
    "plt.show()"
   ]
  },
  {
   "cell_type": "markdown",
   "metadata": {},
   "source": [
    "Conclusion: \n",
    "As the bar chart shows, NO2 exports considerably more electricity to Germany than they import. Note that the amount of exports/imports in 2020 is reasonably low, due to the fact that NordLink opened on december 9, 2020. From there, the amount of import/export increases rapidly over the years."
   ]
  },
  {
   "cell_type": "markdown",
   "metadata": {},
   "source": [
    "TASK 4:"
   ]
  },
  {
   "cell_type": "code",
   "execution_count": null,
   "metadata": {},
   "outputs": [],
   "source": [
    "#Read all csv files and concatenate them into one file\n",
    "dataframes = []\n",
    "for f in flow_files:\n",
    "    csv = pd.read_csv(f, delimiter = '\\t')\n",
    "    dataframes.append(csv)\n",
    "flow_data = pd.concat(dataframes, ignore_index = True)\n",
    "\n",
    "#Making sure that the 'DateTime' column is in the right format\n",
    "flow_data['DateTime'] = pd.to_datetime(flow_data['DateTime'])\n",
    "# Imports: NO2 is InMapCode (importing from Germany)\n",
    "imports = flow_data[(flow_data['InMapCode'] == 'NO2') & (flow_data['OutMapCode'] == 'DE_LU')]\n",
    "\n",
    "# Exports: NO2 is OutMapCode (exporting to Germany)\n",
    "exports = flow_data[(flow_data['OutMapCode'] == 'NO2') & (flow_data['InMapCode'] == 'DE_LU')]\n",
    "\n",
    "\n",
    "flow_data"
   ]
  },
  {
   "cell_type": "code",
   "execution_count": 18,
   "metadata": {},
   "outputs": [],
   "source": [
    "#Set the DateTime index for resampling\n",
    "imports.set_index('DateTime', inplace=True)\n",
    "exports.set_index('DateTime', inplace=True)\n",
    "\n",
    "#Calculate weekly sums for imports and exports by resampling time series data\n",
    "weekly_imports = imports['FlowValue'].resample('W').sum()\n",
    "weekly_exports = exports['FlowValue'].resample('W').sum()\n",
    "\n",
    "#Calculate weekly net exports \n",
    "weekly_net_exports = weekly_exports - weekly_imports"
   ]
  },
  {
   "cell_type": "code",
   "execution_count": null,
   "metadata": {},
   "outputs": [],
   "source": [
    "#Plotting and customizing of the figure\n",
    "plt.figure(figsize=(12, 6))\n",
    "#No need to write the x axis, as the index from dataframe will be used here by default\n",
    "plt.plot(weekly_net_exports, label='Weekly Net Exports', color='blue')\n",
    "plt.axhline(0, color='red', linestyle='--', label='Net Export = 0')\n",
    "\n",
    "# Customizing the plot\n",
    "plt.title('Weekly Net Exports of Electricity from NO2 to Germany')\n",
    "plt.xlabel('Date')\n",
    "plt.ylabel('Net Export (MWh)')\n",
    "plt.legend()\n",
    "plt.tight_layout()\n",
    "\n",
    "#Saving the figure as png file\n",
    "plt.savefig('figure_task4.png')\n",
    "plt.show()"
   ]
  },
  {
   "cell_type": "markdown",
   "metadata": {},
   "source": [
    "Conclusion:\n",
    "As the graph shows, NO2 has not always exported more electricity to Germany than we have imported. All the parts of the graph that is located under the horizontal line, reflects a bigger amount of import than export. Example of a time period this happened is 2022-01. The net sum of import is the biggeset usually in January each year (the time of year most civilians use the most electricity for heating). "
   ]
  },
  {
   "cell_type": "markdown",
   "metadata": {},
   "source": [
    "TASK 5:"
   ]
  },
  {
   "cell_type": "code",
   "execution_count": null,
   "metadata": {},
   "outputs": [],
   "source": [
    "#Doing exact same procedure as in task 4 to calculate weekly net exports\n",
    "dataframes = []\n",
    "for f in flow_files:\n",
    "    csv = pd.read_csv(f, delimiter = '\\t')\n",
    "    dataframes.append(csv)\n",
    "flow_data = pd.concat(dataframes, ignore_index = True)\n",
    "\n",
    "flow_data['DateTime'] = pd.to_datetime(flow_data['DateTime'])\n",
    "\n",
    "imports = flow_data[(flow_data['InMapCode'] == 'NO2') & (flow_data['OutMapCode'] == 'DE_LU')]\n",
    "\n",
    "exports = flow_data[(flow_data['OutMapCode'] == 'NO2') & (flow_data['InMapCode'] == 'DE_LU')]\n",
    "imports.set_index('DateTime', inplace=True)\n",
    "exports.set_index('DateTime', inplace=True)\n",
    "\n",
    "weekly_imports = imports['FlowValue'].resample('W').sum()\n",
    "weekly_exports = exports['FlowValue'].resample('W').sum()\n",
    "\n",
    "weekly_net_exports = weekly_exports - weekly_imports"
   ]
  },
  {
   "cell_type": "code",
   "execution_count": 21,
   "metadata": {},
   "outputs": [],
   "source": [
    "#Loading in data from 'DayAheadPrices' \n",
    "#Initializing empty list to store all csv files, enabling us to concatenate later\n",
    "datas = []\n",
    "for f in price_files:\n",
    "    csv = pd.read_csv(f, delimiter = '\\t')\n",
    "    datas.append(csv)\n",
    "price_data = pd.concat(datas, ignore_index = True)\n",
    "\n",
    "# Convert 'DateTime' to datetime format and set as index\n",
    "price_data['DateTime'] = pd.to_datetime(price_data['DateTime'])\n",
    "price_data.set_index('DateTime', inplace=True)\n",
    "\n",
    "# Filter price data for NO2 and Germany (DE_LU) and resample by week\n",
    "no2_prices = price_data[price_data['MapCode'] == 'NO2']['Price'].resample('W').mean()\n",
    "ger_prices = price_data[price_data['MapCode'] == 'DE_LU']['Price'].resample('W').mean()\n",
    "\n",
    "# Calculate weekly average price difference (Germany - NO2)\n",
    "weekly_price_difference = ger_prices - no2_prices"
   ]
  },
  {
   "cell_type": "code",
   "execution_count": 22,
   "metadata": {},
   "outputs": [],
   "source": [
    "# Align the two series to ensure they have the same index\n",
    "aligned_data = pd.concat([weekly_net_exports, weekly_price_difference], axis=1, join='inner')\n",
    "aligned_data.columns = ['Net Exports', 'Price Difference']"
   ]
  },
  {
   "cell_type": "code",
   "execution_count": 23,
   "metadata": {},
   "outputs": [],
   "source": [
    "# Calculate the correlation between net exports and price difference\n",
    "correlation = aligned_data['Net Exports'].corr(aligned_data['Price Difference'])"
   ]
  },
  {
   "cell_type": "code",
   "execution_count": null,
   "metadata": {},
   "outputs": [],
   "source": [
    "# Plotting\n",
    "plt.figure(figsize=(10, 6))\n",
    "plt.scatter(aligned_data['Net Exports'], aligned_data['Price Difference'], color='salmon', alpha=0.6)\n",
    "#Customizing the scatter plot and adding correlation to the title\n",
    "plt.title(f'Scatter Plot of Weekly Net Exports vs. Weekly Price Difference\\nCorrelation Coefficient: {correlation:.2f}')\n",
    "plt.xlabel('Weekly Net Exports (MWh)')\n",
    "plt.ylabel('Weekly Price Difference (EUR/MWh)')\n",
    "plt.axhline(0, color='red', linestyle='--', linewidth=0.8, label='Price Difference = 0')\n",
    "plt.axvline(0, color='green', linestyle='--', linewidth=0.8, label='Net Export = 0')\n",
    "plt.legend()\n",
    "plt.tight_layout()\n",
    "# Save the scatter plot\n",
    "plt.savefig('figure_task5.png')\n",
    "plt.show()"
   ]
  },
  {
   "cell_type": "markdown",
   "metadata": {},
   "source": [
    "Conclusion: \n",
    "The correlation coefficient of 0.57 indicates a positive correlation between the weekly sum of net exports and the weekly average price difference. This suggests that as electricity prices in Germany rise, their imports from Norway also tend to increase. The scatter plot supports this relationship, showing that higher price differences generally align with increased imports from Norway.\n",
    "\n",
    "Notably, there is very little activity when the price difference is high but net exports are negative (indicating Norway is importing more than exporting). Similarly, there is minimal activity when the price difference is negative (meaning prices are lower in Germany), yet Norway is exporting more than importing. This pattern supports the idea that price differences drive export flows, with higher exports typically occurring when prices are higher in Germany than in Norway."
   ]
  },
  {
   "cell_type": "markdown",
   "metadata": {},
   "source": [
    "TASK 6:"
   ]
  },
  {
   "cell_type": "markdown",
   "metadata": {},
   "source": [
    "In completing this assignment, our group has used several online sources to enhance our efficiency and understanding of the different tasks we were to complete. This include sources like previous notes from lectures and workshops, pandas.pydata.org, generative AI and Stack Overflow. \n",
    "\n",
    "Official function documentation:\n",
    "The use of official function documentation (for functions in Pandas and matplotlib) helped us understand certain functions and how to utilize them correctly, E.G. 'Groupby()', 'resample()' and for plotting functions. The documentation provided guidance on function parameters and examples of usage, helping us apply them correctly in the code. \n",
    "\n",
    "Stack Overflow: \n",
    "We used Stack Overflow in the way of looking up different errors in our initialized code, increasing our understanding of what possibly went wrong where, and how we from there on could improve our code, E.G. ValueErrors.\n",
    "\n",
    "Notes from Lectures:\n",
    "By constantly reading through previous lecture and workshop notes, we refreshed our memory in the usage of different functions. Especially when working on the task inclluding a scatter plot, we looked back on previous workshop tasks, and were able to more easily solve this very task. \n",
    "\n",
    "Generative AI:\n",
    "Our group used ChatGPT in clarifying concepts, understand possible coding errors, and seek for relevant guidance on how to approach the tasks. ChatGPT helped us understand how to write different lines of code correctly and more efficiently. However, every time we used ChatGPT, we made sure to understand everything it said, and test it to consider whether it gave us the result we wanted. Overall making sure that we did not use ChatGPT in a way that we did not understand. ChatGPT helped us re-structure our code, for instance in how to calculate weekly sums and calculate correlation and refine the code to make it more readable \n",
    "\n",
    "\n",
    "We utilized several sources in our approach of solving this assignment. By reading through previous notes, official documentation and Stack Overflow, we were able to understand how to code in the correct way. Our usage of AI has definitely helped us make our code more readable, efficient and helped us out with problems. Importantly, we thoroughly reviewed and tested all AI-generated suggetions we got, to ensure that we fully understood each solution (line of code) and that the final result from this line align with our expectations. "
   ]
  }
 ],
 "metadata": {
  "kernelspec": {
   "display_name": "base",
   "language": "python",
   "name": "python3"
  },
  "language_info": {
   "codemirror_mode": {
    "name": "ipython",
    "version": 3
   },
   "file_extension": ".py",
   "mimetype": "text/x-python",
   "name": "python",
   "nbconvert_exporter": "python",
   "pygments_lexer": "ipython3",
   "version": "3.12.4"
  }
 },
 "nbformat": 4,
 "nbformat_minor": 2
}
